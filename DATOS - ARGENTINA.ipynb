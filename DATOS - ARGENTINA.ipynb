{
 "cells": [
  {
   "cell_type": "markdown",
   "id": "municipal-protest",
   "metadata": {},
   "source": [
    "# DATOS - ARGENTINA"
   ]
  },
  {
   "cell_type": "markdown",
   "id": "signal-endorsement",
   "metadata": {},
   "source": [
    "**En este notebook se llegará al dataframe final para luego seguir con análsis exploratorio y feature engeneering.**"
   ]
  },
  {
   "cell_type": "code",
   "execution_count": 66,
   "id": "sublime-input",
   "metadata": {},
   "outputs": [],
   "source": [
    "import pandas as pd\n",
    "import numpy as np\n",
    "import os\n",
    "import glob\n",
    "import matplotlib.pyplot as plt\n",
    "from matplotlib import rc\n",
    "import seaborn as sns\n",
    "from scipy.stats import norm\n",
    "from sklearn.preprocessing import StandardScaler\n",
    "from scipy import stats\n",
    "from wordcloud import WordCloud\n",
    "import warnings\n",
    "warnings.filterwarnings('ignore') # Para evitar los molestos avisos.\n",
    "%matplotlib inline"
   ]
  },
  {
   "cell_type": "markdown",
   "id": "underlying-borough",
   "metadata": {},
   "source": [
    "Lectura de datos demográficos de Argentina"
   ]
  },
  {
   "cell_type": "code",
   "execution_count": 67,
   "id": "geographic-yukon",
   "metadata": {},
   "outputs": [
    {
     "data": {
      "text/html": [
       "<div>\n",
       "<style scoped>\n",
       "    .dataframe tbody tr th:only-of-type {\n",
       "        vertical-align: middle;\n",
       "    }\n",
       "\n",
       "    .dataframe tbody tr th {\n",
       "        vertical-align: top;\n",
       "    }\n",
       "\n",
       "    .dataframe thead th {\n",
       "        text-align: right;\n",
       "    }\n",
       "</style>\n",
       "<table border=\"1\" class=\"dataframe\">\n",
       "  <thead>\n",
       "    <tr style=\"text-align: right;\">\n",
       "      <th></th>\n",
       "      <th>type</th>\n",
       "      <th>user_id</th>\n",
       "      <th>0</th>\n",
       "      <th>1</th>\n",
       "    </tr>\n",
       "  </thead>\n",
       "  <tbody>\n",
       "    <tr>\n",
       "      <th>0</th>\n",
       "      <td>web</td>\n",
       "      <td>00028b8f-e4ff-432b-aad3-bf9b6f133836</td>\n",
       "      <td>5</td>\n",
       "      <td>2.0</td>\n",
       "    </tr>\n",
       "    <tr>\n",
       "      <th>1</th>\n",
       "      <td>web</td>\n",
       "      <td>0105a039-237e-4cad-b765-c4850423438e</td>\n",
       "      <td>2</td>\n",
       "      <td>6.0</td>\n",
       "    </tr>\n",
       "  </tbody>\n",
       "</table>\n",
       "</div>"
      ],
      "text/plain": [
       "  type                               user_id  0    1\n",
       "0  web  00028b8f-e4ff-432b-aad3-bf9b6f133836  5  2.0\n",
       "1  web  0105a039-237e-4cad-b765-c4850423438e  2  6.0"
      ]
     },
     "execution_count": 67,
     "metadata": {},
     "output_type": "execute_result"
    }
   ],
   "source": [
    "path = 'C:/Users/dlongas/Documents/Personal/MIMYANALYTICS/TESIS/files/AR/AR_demo_202101_grouped/final_csv/'\n",
    "columns_to_keep = ['type','user_id','0','1']\n",
    "#abro un csv y luego le pego los demas\n",
    "df_demo = pd.read_csv(path + 'AR_demo_202101_0.csv', usecols=columns_to_keep)\n",
    "mylist = [f for f in glob.glob(path + \"AR_demo_*.csv\")]\n",
    "for file in mylist:\n",
    "    df = pd.read_csv(file, usecols=columns_to_keep)\n",
    "    df_demo = df_demo.append(df)\n",
    "df_demo = df_demo.drop_duplicates()\n",
    "df_demo.head(2)"
   ]
  },
  {
   "cell_type": "markdown",
   "id": "registered-france",
   "metadata": {},
   "source": [
    "Lectura de datos de features de Argentina"
   ]
  },
  {
   "cell_type": "code",
   "execution_count": 69,
   "id": "coupled-prompt",
   "metadata": {},
   "outputs": [
    {
     "name": "stdout",
     "output_type": "stream",
     "text": [
      "32552  features en total para Argentina\n"
     ]
    },
    {
     "data": {
      "text/html": [
       "<div>\n",
       "<style scoped>\n",
       "    .dataframe tbody tr th:only-of-type {\n",
       "        vertical-align: middle;\n",
       "    }\n",
       "\n",
       "    .dataframe tbody tr th {\n",
       "        vertical-align: top;\n",
       "    }\n",
       "\n",
       "    .dataframe thead th {\n",
       "        text-align: right;\n",
       "    }\n",
       "</style>\n",
       "<table border=\"1\" class=\"dataframe\">\n",
       "  <thead>\n",
       "    <tr style=\"text-align: right;\">\n",
       "      <th></th>\n",
       "      <th>feat_idx</th>\n",
       "      <th>feature</th>\n",
       "    </tr>\n",
       "  </thead>\n",
       "  <tbody>\n",
       "    <tr>\n",
       "      <th>0</th>\n",
       "      <td>0</td>\n",
       "      <td>bf@Brand_browser</td>\n",
       "    </tr>\n",
       "    <tr>\n",
       "      <th>1</th>\n",
       "      <td>1</td>\n",
       "      <td>bf@Chrome</td>\n",
       "    </tr>\n",
       "  </tbody>\n",
       "</table>\n",
       "</div>"
      ],
      "text/plain": [
       "   feat_idx           feature\n",
       "0         0  bf@Brand_browser\n",
       "1         1         bf@Chrome"
      ]
     },
     "execution_count": 69,
     "metadata": {},
     "output_type": "execute_result"
    }
   ],
   "source": [
    "path = 'C:/Users/dlongas/Documents/Personal/MIMYANALYTICS/TESIS/files/AR/feature_index/final_csv/'\n",
    "columns_to_keep = ['feat_idx','feature']\n",
    "#abro un csv\n",
    "df_feature = pd.read_csv(path + 'AR_feature_index_0.csv', usecols=columns_to_keep) \n",
    "print(df_feature.shape[0], ' features en total para Argentina')\n",
    "df_feature.head(2)"
   ]
  },
  {
   "cell_type": "markdown",
   "id": "looking-basket",
   "metadata": {},
   "source": [
    "Lectura de identificadores de features y de dispositivos para Argentina"
   ]
  },
  {
   "cell_type": "code",
   "execution_count": 71,
   "id": "immediate-escape",
   "metadata": {},
   "outputs": [
    {
     "name": "stdout",
     "output_type": "stream",
     "text": [
      "Hay  2516240  combinaciones distintas de dispositivos y features para Argentina\n"
     ]
    },
    {
     "data": {
      "text/html": [
       "<div>\n",
       "<style scoped>\n",
       "    .dataframe tbody tr th:only-of-type {\n",
       "        vertical-align: middle;\n",
       "    }\n",
       "\n",
       "    .dataframe tbody tr th {\n",
       "        vertical-align: top;\n",
       "    }\n",
       "\n",
       "    .dataframe thead th {\n",
       "        text-align: right;\n",
       "    }\n",
       "</style>\n",
       "<table border=\"1\" class=\"dataframe\">\n",
       "  <thead>\n",
       "    <tr style=\"text-align: right;\">\n",
       "      <th></th>\n",
       "      <th>device_idx</th>\n",
       "      <th>feat_idx</th>\n",
       "    </tr>\n",
       "  </thead>\n",
       "  <tbody>\n",
       "    <tr>\n",
       "      <th>0</th>\n",
       "      <td>40990</td>\n",
       "      <td>18802</td>\n",
       "    </tr>\n",
       "    <tr>\n",
       "      <th>1</th>\n",
       "      <td>7711</td>\n",
       "      <td>23092</td>\n",
       "    </tr>\n",
       "  </tbody>\n",
       "</table>\n",
       "</div>"
      ],
      "text/plain": [
       "   device_idx  feat_idx\n",
       "0       40990     18802\n",
       "1        7711     23092"
      ]
     },
     "execution_count": 71,
     "metadata": {},
     "output_type": "execute_result"
    }
   ],
   "source": [
    "path = 'C:/Users/dlongas/Documents/Personal/MIMYANALYTICS/TESIS/files/AR/indexed/final_csv/'\n",
    "columns_to_keep = ['device_idx','feat_idx']\n",
    "#abro un csv y luego le pego los demas\n",
    "df_dev_fea = pd.read_csv(path + 'AR_parquet_indexed_0.csv', usecols=columns_to_keep)\n",
    "mylist = [f for f in glob.glob(path + \"AR_parquet_indexed_*.csv\")]\n",
    "for file in mylist:\n",
    "    df = pd.read_csv(file, usecols=columns_to_keep)\n",
    "    df_dev_fea = df_dev_fea.append(df)\n",
    "df_dev_fea = df_dev_fea.drop_duplicates()\n",
    "print(\"Hay \",df_dev_fea.shape[0], \" combinaciones distintas de dispositivos y features para Argentina\" )\n",
    "df_dev_fea.head(2)"
   ]
  },
  {
   "cell_type": "markdown",
   "id": "entitled-alarm",
   "metadata": {},
   "source": [
    "Descarga de dispositivos y su identificador para Argentina"
   ]
  },
  {
   "cell_type": "code",
   "execution_count": 73,
   "id": "preceding-puppy",
   "metadata": {},
   "outputs": [
    {
     "name": "stdout",
     "output_type": "stream",
     "text": [
      "Hay  101990  dispositivos (usuarios) en Argentina\n"
     ]
    },
    {
     "data": {
      "text/html": [
       "<div>\n",
       "<style scoped>\n",
       "    .dataframe tbody tr th:only-of-type {\n",
       "        vertical-align: middle;\n",
       "    }\n",
       "\n",
       "    .dataframe tbody tr th {\n",
       "        vertical-align: top;\n",
       "    }\n",
       "\n",
       "    .dataframe thead th {\n",
       "        text-align: right;\n",
       "    }\n",
       "</style>\n",
       "<table border=\"1\" class=\"dataframe\">\n",
       "  <thead>\n",
       "    <tr style=\"text-align: right;\">\n",
       "      <th></th>\n",
       "      <th>device_idx</th>\n",
       "      <th>device_id</th>\n",
       "    </tr>\n",
       "  </thead>\n",
       "  <tbody>\n",
       "    <tr>\n",
       "      <th>0</th>\n",
       "      <td>0</td>\n",
       "      <td>00006070-10bc-44e8-bf08-e4912614de23</td>\n",
       "    </tr>\n",
       "    <tr>\n",
       "      <th>1</th>\n",
       "      <td>1</td>\n",
       "      <td>0000ea8d-feb4-4166-bee6-a51991c477e6</td>\n",
       "    </tr>\n",
       "  </tbody>\n",
       "</table>\n",
       "</div>"
      ],
      "text/plain": [
       "   device_idx                             device_id\n",
       "0           0  00006070-10bc-44e8-bf08-e4912614de23\n",
       "1           1  0000ea8d-feb4-4166-bee6-a51991c477e6"
      ]
     },
     "execution_count": 73,
     "metadata": {},
     "output_type": "execute_result"
    }
   ],
   "source": [
    "path = 'C:/Users/dlongas/Documents/Personal/MIMYANALYTICS/TESIS/files/AR/device_index/final_csv/'\n",
    "columns_to_keep = ['device_idx','device_id']\n",
    "#abro un csv y luego le pego los demas\n",
    "df_dev_id = pd.read_csv(path + 'AR_device_index_0.csv', usecols=columns_to_keep)\n",
    "print(\"Hay \", df_dev_id.shape[0], \" dispositivos (usuarios) en Argentina\")\n",
    "df_dev_id.head(2)"
   ]
  },
  {
   "cell_type": "markdown",
   "id": "magnetic-helena",
   "metadata": {},
   "source": [
    "Unifico feature id - device id - feature name para Argentina"
   ]
  },
  {
   "cell_type": "code",
   "execution_count": 75,
   "id": "intelligent-rehabilitation",
   "metadata": {},
   "outputs": [
    {
     "name": "stdout",
     "output_type": "stream",
     "text": [
      "Reafirmamos las  2516240 combinaciones distintinas de dispositivos y features para Argentina\n"
     ]
    },
    {
     "data": {
      "text/html": [
       "<div>\n",
       "<style scoped>\n",
       "    .dataframe tbody tr th:only-of-type {\n",
       "        vertical-align: middle;\n",
       "    }\n",
       "\n",
       "    .dataframe tbody tr th {\n",
       "        vertical-align: top;\n",
       "    }\n",
       "\n",
       "    .dataframe thead th {\n",
       "        text-align: right;\n",
       "    }\n",
       "</style>\n",
       "<table border=\"1\" class=\"dataframe\">\n",
       "  <thead>\n",
       "    <tr style=\"text-align: right;\">\n",
       "      <th></th>\n",
       "      <th>device_idx</th>\n",
       "      <th>feat_idx</th>\n",
       "      <th>feature</th>\n",
       "      <th>device_id</th>\n",
       "    </tr>\n",
       "  </thead>\n",
       "  <tbody>\n",
       "    <tr>\n",
       "      <th>0</th>\n",
       "      <td>40990</td>\n",
       "      <td>18802</td>\n",
       "      <td>url@tuenti.com.ar/recargar-combo-tuenti</td>\n",
       "      <td>5c6f34ad-d15d-4b19-b278-6f9a534a7602</td>\n",
       "    </tr>\n",
       "    <tr>\n",
       "      <th>1</th>\n",
       "      <td>7711</td>\n",
       "      <td>23092</td>\n",
       "      <td>url@zonajobs.com.ar/empleos/jefe-relaciones-la...</td>\n",
       "      <td>148fc89c-1781-4d3f-a852-8b8fa02e6190</td>\n",
       "    </tr>\n",
       "  </tbody>\n",
       "</table>\n",
       "</div>"
      ],
      "text/plain": [
       "   device_idx  feat_idx                                            feature  \\\n",
       "0       40990     18802            url@tuenti.com.ar/recargar-combo-tuenti   \n",
       "1        7711     23092  url@zonajobs.com.ar/empleos/jefe-relaciones-la...   \n",
       "\n",
       "                              device_id  \n",
       "0  5c6f34ad-d15d-4b19-b278-6f9a534a7602  \n",
       "1  148fc89c-1781-4d3f-a852-8b8fa02e6190  "
      ]
     },
     "execution_count": 75,
     "metadata": {},
     "output_type": "execute_result"
    }
   ],
   "source": [
    "df = pd.merge(df_dev_fea, df_feature, how='left', on='feat_idx')\n",
    "df = pd.merge(df, df_dev_id, how='left', on='device_idx')\n",
    "print(\"Reafirmamos las \", df.shape[0], 'combinaciones distintinas de dispositivos y features para Argentina')\n",
    "df.head(2)"
   ]
  },
  {
   "cell_type": "markdown",
   "id": "assured-usage",
   "metadata": {},
   "source": [
    "Unifico feature id - device id - feature name para Chile"
   ]
  },
  {
   "cell_type": "code",
   "execution_count": 76,
   "id": "portuguese-group",
   "metadata": {},
   "outputs": [
    {
     "name": "stdout",
     "output_type": "stream",
     "text": [
      "Reafirmamos las  13990011 combinaciones distintinas de dispositivos y features para Chile\n"
     ]
    },
    {
     "data": {
      "text/html": [
       "<div>\n",
       "<style scoped>\n",
       "    .dataframe tbody tr th:only-of-type {\n",
       "        vertical-align: middle;\n",
       "    }\n",
       "\n",
       "    .dataframe tbody tr th {\n",
       "        vertical-align: top;\n",
       "    }\n",
       "\n",
       "    .dataframe thead th {\n",
       "        text-align: right;\n",
       "    }\n",
       "</style>\n",
       "<table border=\"1\" class=\"dataframe\">\n",
       "  <thead>\n",
       "    <tr style=\"text-align: right;\">\n",
       "      <th></th>\n",
       "      <th>device_idx</th>\n",
       "      <th>feat_idx</th>\n",
       "      <th>feature</th>\n",
       "      <th>device_id</th>\n",
       "    </tr>\n",
       "  </thead>\n",
       "  <tbody>\n",
       "    <tr>\n",
       "      <th>0</th>\n",
       "      <td>3958</td>\n",
       "      <td>28829</td>\n",
       "      <td>url@pagos.movistar.cl/comprobante</td>\n",
       "      <td>011ffb5f-34ee-47b3-bece-0f82752f51e1</td>\n",
       "    </tr>\n",
       "    <tr>\n",
       "      <th>1</th>\n",
       "      <td>4982</td>\n",
       "      <td>3306</td>\n",
       "      <td>im@1</td>\n",
       "      <td>01694d00-0586-4086-bbd9-918880df5870</td>\n",
       "    </tr>\n",
       "  </tbody>\n",
       "</table>\n",
       "</div>"
      ],
      "text/plain": [
       "   device_idx  feat_idx                            feature  \\\n",
       "0        3958     28829  url@pagos.movistar.cl/comprobante   \n",
       "1        4982      3306                               im@1   \n",
       "\n",
       "                              device_id  \n",
       "0  011ffb5f-34ee-47b3-bece-0f82752f51e1  \n",
       "1  01694d00-0586-4086-bbd9-918880df5870  "
      ]
     },
     "execution_count": 76,
     "metadata": {},
     "output_type": "execute_result"
    }
   ],
   "source": [
    "df_cl = pd.merge(df_dev_fea_cl, df_feature_cl, how='left', on='feat_idx')\n",
    "df_cl = pd.merge(df_cl, df_dev_id_cl, how='left', on='device_idx')\n",
    "print(\"Reafirmamos las \", df_cl.shape[0], 'combinaciones distintinas de dispositivos y features para Chile')\n",
    "df_cl.head(2)"
   ]
  },
  {
   "cell_type": "markdown",
   "id": "saving-heather",
   "metadata": {},
   "source": [
    "Dispositivos y Features para Argentina"
   ]
  },
  {
   "cell_type": "code",
   "execution_count": 77,
   "id": "asian-weather",
   "metadata": {},
   "outputs": [
    {
     "name": "stdout",
     "output_type": "stream",
     "text": [
      "Tomamos los 2516240 dispositivos-features (Arg)\n"
     ]
    },
    {
     "data": {
      "text/html": [
       "<div>\n",
       "<style scoped>\n",
       "    .dataframe tbody tr th:only-of-type {\n",
       "        vertical-align: middle;\n",
       "    }\n",
       "\n",
       "    .dataframe tbody tr th {\n",
       "        vertical-align: top;\n",
       "    }\n",
       "\n",
       "    .dataframe thead th {\n",
       "        text-align: right;\n",
       "    }\n",
       "</style>\n",
       "<table border=\"1\" class=\"dataframe\">\n",
       "  <thead>\n",
       "    <tr style=\"text-align: right;\">\n",
       "      <th></th>\n",
       "      <th>device_idx</th>\n",
       "      <th>feature</th>\n",
       "    </tr>\n",
       "  </thead>\n",
       "  <tbody>\n",
       "    <tr>\n",
       "      <th>0</th>\n",
       "      <td>40990</td>\n",
       "      <td>url@tuenti.com.ar/recargar-combo-tuenti</td>\n",
       "    </tr>\n",
       "    <tr>\n",
       "      <th>1</th>\n",
       "      <td>7711</td>\n",
       "      <td>url@zonajobs.com.ar/empleos/jefe-relaciones-la...</td>\n",
       "    </tr>\n",
       "  </tbody>\n",
       "</table>\n",
       "</div>"
      ],
      "text/plain": [
       "   device_idx                                            feature\n",
       "0       40990            url@tuenti.com.ar/recargar-combo-tuenti\n",
       "1        7711  url@zonajobs.com.ar/empleos/jefe-relaciones-la..."
      ]
     },
     "execution_count": 77,
     "metadata": {},
     "output_type": "execute_result"
    }
   ],
   "source": [
    "df_analisis_exp = df[['device_idx', 'feature']]\n",
    "print('Tomamos los', df_analisis_exp.shape[0], 'dispositivos-features (Arg)')\n",
    "df_analisis_exp.head(2)"
   ]
  },
  {
   "cell_type": "markdown",
   "id": "separate-great",
   "metadata": {},
   "source": [
    "Features en Argentina"
   ]
  },
  {
   "cell_type": "code",
   "execution_count": 78,
   "id": "civil-layout",
   "metadata": {},
   "outputs": [
    {
     "name": "stdout",
     "output_type": "stream",
     "text": [
      "Separo el campo feature para obtener el tipo de feature por un lado y el detalle por otro\n",
      "2516240 dispositivos - features en Arg\n",
      "Tipos de features (Arg)\n"
     ]
    },
    {
     "data": {
      "text/html": [
       "<div>\n",
       "<style scoped>\n",
       "    .dataframe tbody tr th:only-of-type {\n",
       "        vertical-align: middle;\n",
       "    }\n",
       "\n",
       "    .dataframe tbody tr th {\n",
       "        vertical-align: top;\n",
       "    }\n",
       "\n",
       "    .dataframe thead th {\n",
       "        text-align: right;\n",
       "    }\n",
       "</style>\n",
       "<table border=\"1\" class=\"dataframe\">\n",
       "  <thead>\n",
       "    <tr style=\"text-align: right;\">\n",
       "      <th></th>\n",
       "      <th>feature_type</th>\n",
       "      <th>feature_detail</th>\n",
       "    </tr>\n",
       "  </thead>\n",
       "  <tbody>\n",
       "    <tr>\n",
       "      <th>0</th>\n",
       "      <td>url</td>\n",
       "      <td>tuenti.com.ar/recargar-combo-tuenti</td>\n",
       "    </tr>\n",
       "    <tr>\n",
       "      <th>1</th>\n",
       "      <td>url</td>\n",
       "      <td>zonajobs.com.ar/empleos/jefe-relaciones-labora...</td>\n",
       "    </tr>\n",
       "  </tbody>\n",
       "</table>\n",
       "</div>"
      ],
      "text/plain": [
       "  feature_type                                     feature_detail\n",
       "0          url                tuenti.com.ar/recargar-combo-tuenti\n",
       "1          url  zonajobs.com.ar/empleos/jefe-relaciones-labora..."
      ]
     },
     "execution_count": 78,
     "metadata": {},
     "output_type": "execute_result"
    }
   ],
   "source": [
    "expand_feature = df_analisis_exp['feature'].str.split('@', expand=True)\n",
    "#expand_feature[expand_feature[2]=='gmail.com-ortega-1909843.html']\n",
    "expand_feature = expand_feature.drop([2], axis=1)\n",
    "expand_feature = expand_feature.rename(columns={0:'feature_type',\n",
    "                                                1:'feature_detail'})\n",
    "print(\"Separo el campo feature para obtener el tipo de feature por un lado y el detalle por otro\")\n",
    "print(expand_feature.shape[0], 'dispositivos - features en Arg')\n",
    "print(\"Tipos de features (Arg)\")\n",
    "expand_feature['feature_type'].unique()\n",
    "\n",
    "expand_feature.head(2)"
   ]
  },
  {
   "cell_type": "markdown",
   "id": "neither-flight",
   "metadata": {},
   "source": [
    "Dataframe Argentina"
   ]
  },
  {
   "cell_type": "code",
   "execution_count": 79,
   "id": "dated-reservation",
   "metadata": {},
   "outputs": [
    {
     "name": "stdout",
     "output_type": "stream",
     "text": [
      "shape del df: 2516240\n"
     ]
    },
    {
     "data": {
      "text/html": [
       "<div>\n",
       "<style scoped>\n",
       "    .dataframe tbody tr th:only-of-type {\n",
       "        vertical-align: middle;\n",
       "    }\n",
       "\n",
       "    .dataframe tbody tr th {\n",
       "        vertical-align: top;\n",
       "    }\n",
       "\n",
       "    .dataframe thead th {\n",
       "        text-align: right;\n",
       "    }\n",
       "</style>\n",
       "<table border=\"1\" class=\"dataframe\">\n",
       "  <thead>\n",
       "    <tr style=\"text-align: right;\">\n",
       "      <th></th>\n",
       "      <th>device_idx</th>\n",
       "      <th>feature_type</th>\n",
       "      <th>feature_detail</th>\n",
       "      <th>country</th>\n",
       "    </tr>\n",
       "  </thead>\n",
       "  <tbody>\n",
       "    <tr>\n",
       "      <th>0</th>\n",
       "      <td>40990</td>\n",
       "      <td>url</td>\n",
       "      <td>tuenti.com.ar/recargar-combo-tuenti</td>\n",
       "      <td>AR</td>\n",
       "    </tr>\n",
       "    <tr>\n",
       "      <th>1</th>\n",
       "      <td>7711</td>\n",
       "      <td>url</td>\n",
       "      <td>zonajobs.com.ar/empleos/jefe-relaciones-labora...</td>\n",
       "      <td>AR</td>\n",
       "    </tr>\n",
       "    <tr>\n",
       "      <th>2</th>\n",
       "      <td>79625</td>\n",
       "      <td>url</td>\n",
       "      <td>bumeran.com.ar/empleos/administrativo-caba-rec...</td>\n",
       "      <td>AR</td>\n",
       "    </tr>\n",
       "  </tbody>\n",
       "</table>\n",
       "</div>"
      ],
      "text/plain": [
       "   device_idx feature_type                                     feature_detail  \\\n",
       "0       40990          url                tuenti.com.ar/recargar-combo-tuenti   \n",
       "1        7711          url  zonajobs.com.ar/empleos/jefe-relaciones-labora...   \n",
       "2       79625          url  bumeran.com.ar/empleos/administrativo-caba-rec...   \n",
       "\n",
       "  country  \n",
       "0      AR  \n",
       "1      AR  \n",
       "2      AR  "
      ]
     },
     "execution_count": 79,
     "metadata": {},
     "output_type": "execute_result"
    }
   ],
   "source": [
    "df_analisis_exp = pd.concat([df_analisis_exp, expand_feature], axis=1)\n",
    "df_analisis_exp = df_analisis_exp[['device_idx', 'feature_type', 'feature_detail']]\n",
    "print('shape del df:', df_analisis_exp.shape[0])\n",
    "df_analisis_exp['country'] = 'AR'\n",
    "df_analisis_exp.head(3)"
   ]
  },
  {
   "cell_type": "markdown",
   "id": "commercial-outdoors",
   "metadata": {},
   "source": [
    "Reordenamiento de Labels en dataset Argentina"
   ]
  },
  {
   "cell_type": "code",
   "execution_count": 83,
   "id": "fatty-colony",
   "metadata": {},
   "outputs": [
    {
     "name": "stdout",
     "output_type": "stream",
     "text": [
      "(103908, 2)\n",
      "                                user_id  label\n",
      "0  00028b8f-e4ff-432b-aad3-bf9b6f133836      5\n",
      "1  0105a039-237e-4cad-b765-c4850423438e      2\n",
      "2  01c8e44a-d32e-4143-be36-a592dcdf11e6      6\n",
      "3  026cdff1-082f-4e97-8fe4-8cdef8ee2370      2\n",
      "4  028a5c57-2a93-41f1-8086-87b6b9c92cc5      5\n",
      "(103908, 2)\n",
      "                                user_id  label\n",
      "0  00028b8f-e4ff-432b-aad3-bf9b6f133836    2.0\n",
      "1  0105a039-237e-4cad-b765-c4850423438e    6.0\n",
      "2  01c8e44a-d32e-4143-be36-a592dcdf11e6    3.0\n",
      "3  026cdff1-082f-4e97-8fe4-8cdef8ee2370    5.0\n",
      "4  028a5c57-2a93-41f1-8086-87b6b9c92cc5    3.0\n",
      "199490 dispositivos con lebel de genero y/o de edad para ARGENTINA\n"
     ]
    },
    {
     "data": {
      "text/html": [
       "<div>\n",
       "<style scoped>\n",
       "    .dataframe tbody tr th:only-of-type {\n",
       "        vertical-align: middle;\n",
       "    }\n",
       "\n",
       "    .dataframe tbody tr th {\n",
       "        vertical-align: top;\n",
       "    }\n",
       "\n",
       "    .dataframe thead th {\n",
       "        text-align: right;\n",
       "    }\n",
       "</style>\n",
       "<table border=\"1\" class=\"dataframe\">\n",
       "  <thead>\n",
       "    <tr style=\"text-align: right;\">\n",
       "      <th></th>\n",
       "      <th>device_idx</th>\n",
       "      <th>label</th>\n",
       "      <th>country</th>\n",
       "    </tr>\n",
       "  </thead>\n",
       "  <tbody>\n",
       "    <tr>\n",
       "      <th>0</th>\n",
       "      <td>4.0</td>\n",
       "      <td>5.0</td>\n",
       "      <td>AR</td>\n",
       "    </tr>\n",
       "    <tr>\n",
       "      <th>1</th>\n",
       "      <td>392.0</td>\n",
       "      <td>2.0</td>\n",
       "      <td>AR</td>\n",
       "    </tr>\n",
       "  </tbody>\n",
       "</table>\n",
       "</div>"
      ],
      "text/plain": [
       "   device_idx  label country\n",
       "0         4.0    5.0      AR\n",
       "1       392.0    2.0      AR"
      ]
     },
     "execution_count": 83,
     "metadata": {},
     "output_type": "execute_result"
    }
   ],
   "source": [
    "#Veo como están las clases (género y edad)\n",
    "#Modifico mi df\n",
    "df_demo_0 = df_demo[['user_id','0']]\n",
    "df_demo_0 = df_demo_0.rename(columns={'0':'label'})\n",
    "df_demo_0 = df_demo_0.drop_duplicates()\n",
    "df_demo_1 = df_demo[['user_id','1']]\n",
    "df_demo_1 = df_demo_1.rename(columns={'1':'label'})\n",
    "df_demo_1 = df_demo_1.drop_duplicates()\n",
    "print(df_demo_0.shape)\n",
    "print(df_demo_0.head())\n",
    "print(df_demo_1.shape)\n",
    "print(df_demo_1.head())\n",
    "df_demo_exp_ar = pd.concat([df_demo_0,df_demo_1], axis=0)\n",
    "df_demo_exp_ar = df_demo_exp_ar[df_demo_exp_ar['label']!=1]\n",
    "df_demo_exp_ar['country'] = 'AR'\n",
    "df_demo_exp_ar = pd.merge(df_demo_exp_ar, df_dev_id, how='left', left_on='user_id', right_on='device_id')\n",
    "df_demo_exp_ar = df_demo_exp_ar[~df_demo_exp_ar['device_idx'].isnull()]\n",
    "df_demo_exp_ar = df_demo_exp_ar.drop_duplicates()\n",
    "df_demo_exp_ar = df_demo_exp_ar[['device_idx', 'label', 'country']]\n",
    "print(df_demo_exp_ar.shape[0], \"dispositivos con lebel de genero y/o de edad para ARGENTINA\") #tiene que haber 101990\n",
    "df_demo_exp_ar.head(2)"
   ]
  },
  {
   "cell_type": "markdown",
   "id": "committed-cream",
   "metadata": {},
   "source": [
    "Se guarda el dataset"
   ]
  },
  {
   "cell_type": "code",
   "execution_count": 86,
   "id": "impressive-tutorial",
   "metadata": {},
   "outputs": [],
   "source": [
    "df_demo_exp_ar.to_csv('df_demo_exp_ar.csv')"
   ]
  },
  {
   "cell_type": "markdown",
   "id": "separate-interface",
   "metadata": {},
   "source": [
    "*El dataset final con datos de Argentina y Chile se encuentrá generado en la última sección del notebook \"DATOS - CHILE\"*"
   ]
  }
 ],
 "metadata": {
  "kernelspec": {
   "display_name": "Python 3",
   "language": "python",
   "name": "python3"
  },
  "language_info": {
   "codemirror_mode": {
    "name": "ipython",
    "version": 3
   },
   "file_extension": ".py",
   "mimetype": "text/x-python",
   "name": "python",
   "nbconvert_exporter": "python",
   "pygments_lexer": "ipython3",
   "version": "3.7.9"
  }
 },
 "nbformat": 4,
 "nbformat_minor": 5
}
