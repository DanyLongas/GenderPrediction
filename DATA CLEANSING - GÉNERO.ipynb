{
 "cells": [
  {
   "cell_type": "code",
   "execution_count": 1,
   "id": "dated-turning",
   "metadata": {},
   "outputs": [],
   "source": [
    "import pandas as pd\n",
    "import numpy as np\n",
    "import os\n",
    "import glob\n",
    "import matplotlib.pyplot as plt\n",
    "from matplotlib import rc\n",
    "import seaborn as sns\n",
    "from scipy.stats import norm\n",
    "from sklearn.preprocessing import StandardScaler\n",
    "from scipy import stats\n",
    "from wordcloud import WordCloud\n",
    "import warnings\n",
    "warnings.filterwarnings('ignore') # Para evitar los molestos avisos.\n",
    "%matplotlib inline"
   ]
  },
  {
   "cell_type": "markdown",
   "id": "frank-republic",
   "metadata": {},
   "source": [
    "*La explicación sobre el origen de los datos y sus características se encuentra en el domcunedo word 'Tesis'.*"
   ]
  },
  {
   "cell_type": "markdown",
   "id": "incredible-thomson",
   "metadata": {},
   "source": [
    "Lectura del dataset a analizar, generado en el notebook \"Datos\".   \n",
    "Solo label género (2 y 3)"
   ]
  },
  {
   "cell_type": "code",
   "execution_count": 11,
   "id": "independent-graphics",
   "metadata": {},
   "outputs": [
    {
     "name": "stdout",
     "output_type": "stream",
     "text": [
      "Dataset Size: (4911638, 5)\n",
      "Labels: [5. 2. 6. 9. 3. 7. 4. 8.]\n"
     ]
    },
    {
     "data": {
      "text/html": [
       "<div>\n",
       "<style scoped>\n",
       "    .dataframe tbody tr th:only-of-type {\n",
       "        vertical-align: middle;\n",
       "    }\n",
       "\n",
       "    .dataframe tbody tr th {\n",
       "        vertical-align: top;\n",
       "    }\n",
       "\n",
       "    .dataframe thead th {\n",
       "        text-align: right;\n",
       "    }\n",
       "</style>\n",
       "<table border=\"1\" class=\"dataframe\">\n",
       "  <thead>\n",
       "    <tr style=\"text-align: right;\">\n",
       "      <th></th>\n",
       "      <th>device_idx</th>\n",
       "      <th>label</th>\n",
       "      <th>country</th>\n",
       "      <th>feature_type</th>\n",
       "      <th>feature_detail</th>\n",
       "    </tr>\n",
       "  </thead>\n",
       "  <tbody>\n",
       "    <tr>\n",
       "      <th>4912523</th>\n",
       "      <td>101862.0</td>\n",
       "      <td>2.0</td>\n",
       "      <td>AR</td>\n",
       "      <td>dom</td>\n",
       "      <td>minutouno.com</td>\n",
       "    </tr>\n",
       "    <tr>\n",
       "      <th>4912524</th>\n",
       "      <td>101862.0</td>\n",
       "      <td>2.0</td>\n",
       "      <td>AR</td>\n",
       "      <td>url</td>\n",
       "      <td>minutouno.com/notas/5157926-la-emocion-los-tri...</td>\n",
       "    </tr>\n",
       "    <tr>\n",
       "      <th>4912525</th>\n",
       "      <td>101862.0</td>\n",
       "      <td>2.0</td>\n",
       "      <td>AR</td>\n",
       "      <td>dom</td>\n",
       "      <td>creditosparatodos.org</td>\n",
       "    </tr>\n",
       "    <tr>\n",
       "      <th>4912526</th>\n",
       "      <td>101862.0</td>\n",
       "      <td>2.0</td>\n",
       "      <td>AR</td>\n",
       "      <td>url</td>\n",
       "      <td>creditosparatodos.org/gracias.php</td>\n",
       "    </tr>\n",
       "    <tr>\n",
       "      <th>4912527</th>\n",
       "      <td>101862.0</td>\n",
       "      <td>2.0</td>\n",
       "      <td>AR</td>\n",
       "      <td>ov</td>\n",
       "      <td>Android 9</td>\n",
       "    </tr>\n",
       "  </tbody>\n",
       "</table>\n",
       "</div>"
      ],
      "text/plain": [
       "         device_idx  label country feature_type  \\\n",
       "4912523    101862.0    2.0      AR          dom   \n",
       "4912524    101862.0    2.0      AR          url   \n",
       "4912525    101862.0    2.0      AR          dom   \n",
       "4912526    101862.0    2.0      AR          url   \n",
       "4912527    101862.0    2.0      AR           ov   \n",
       "\n",
       "                                            feature_detail  \n",
       "4912523                                      minutouno.com  \n",
       "4912524  minutouno.com/notas/5157926-la-emocion-los-tri...  \n",
       "4912525                              creditosparatodos.org  \n",
       "4912526                  creditosparatodos.org/gracias.php  \n",
       "4912527                                          Android 9  "
      ]
     },
     "execution_count": 11,
     "metadata": {},
     "output_type": "execute_result"
    }
   ],
   "source": [
    "colnames = ['device_idx','label','country','feature_type','feature_detail']\n",
    "df_demo = pd.read_csv('df_dev_label_coun_feature.to_csv', usecols=colnames) \n",
    "df_demo = df_demo[df_demo['country']=='AR']\n",
    "#df_demo = df_demo[(df_demo['label']==2) | (df_demo['label']==3)] #levantar todo, ya que la edad es un feature que me servirá\n",
    "df_demo = df_demo.dropna(subset=['label'])\n",
    "print('Dataset Size:',df_demo.shape)\n",
    "print('Labels:',df_demo['label'].unique())\n",
    "df_demo.tail()"
   ]
  },
  {
   "cell_type": "code",
   "execution_count": 12,
   "id": "cognitive-compression",
   "metadata": {},
   "outputs": [
    {
     "data": {
      "text/plain": [
       "(2456253, 5)"
      ]
     },
     "execution_count": 12,
     "metadata": {},
     "output_type": "execute_result"
    }
   ],
   "source": [
    "tmp_gender = df_demo[(df_demo['label']==2) | (df_demo['label']==3)]\n",
    "tmp_gender.shape"
   ]
  },
  {
   "cell_type": "code",
   "execution_count": 14,
   "id": "instrumental-lesson",
   "metadata": {},
   "outputs": [
    {
     "data": {
      "text/plain": [
       "(2455385, 5)"
      ]
     },
     "execution_count": 14,
     "metadata": {},
     "output_type": "execute_result"
    }
   ],
   "source": [
    "tmp_age = df_demo[(df_demo['label']==4) | (df_demo['label']==5)|(df_demo['label']==6) | (df_demo['label']==7)|\\\n",
    "                 (df_demo['label']==8) | (df_demo['label']==9)]\n",
    "tmp_age.shape"
   ]
  },
  {
   "cell_type": "code",
   "execution_count": 22,
   "id": "governmental-response",
   "metadata": {},
   "outputs": [
    {
     "name": "stdout",
     "output_type": "stream",
     "text": [
      "(2455374, 6)\n"
     ]
    },
    {
     "data": {
      "text/html": [
       "<div>\n",
       "<style scoped>\n",
       "    .dataframe tbody tr th:only-of-type {\n",
       "        vertical-align: middle;\n",
       "    }\n",
       "\n",
       "    .dataframe tbody tr th {\n",
       "        vertical-align: top;\n",
       "    }\n",
       "\n",
       "    .dataframe thead th {\n",
       "        text-align: right;\n",
       "    }\n",
       "</style>\n",
       "<table border=\"1\" class=\"dataframe\">\n",
       "  <thead>\n",
       "    <tr style=\"text-align: right;\">\n",
       "      <th></th>\n",
       "      <th>device_idx</th>\n",
       "      <th>label</th>\n",
       "      <th>country</th>\n",
       "      <th>feature_type</th>\n",
       "      <th>feature_detail</th>\n",
       "      <th>age</th>\n",
       "    </tr>\n",
       "  </thead>\n",
       "  <tbody>\n",
       "    <tr>\n",
       "      <th>0</th>\n",
       "      <td>392.0</td>\n",
       "      <td>2.0</td>\n",
       "      <td>AR</td>\n",
       "      <td>db</td>\n",
       "      <td>XiaoMi</td>\n",
       "      <td>6.0</td>\n",
       "    </tr>\n",
       "    <tr>\n",
       "      <th>1</th>\n",
       "      <td>392.0</td>\n",
       "      <td>2.0</td>\n",
       "      <td>AR</td>\n",
       "      <td>url</td>\n",
       "      <td>bumeran.com.ar/empleos-busqueda-legales.html</td>\n",
       "      <td>6.0</td>\n",
       "    </tr>\n",
       "    <tr>\n",
       "      <th>2</th>\n",
       "      <td>392.0</td>\n",
       "      <td>2.0</td>\n",
       "      <td>AR</td>\n",
       "      <td>bf</td>\n",
       "      <td>Chrome</td>\n",
       "      <td>6.0</td>\n",
       "    </tr>\n",
       "    <tr>\n",
       "      <th>3</th>\n",
       "      <td>392.0</td>\n",
       "      <td>2.0</td>\n",
       "      <td>AR</td>\n",
       "      <td>ov</td>\n",
       "      <td>Android 9</td>\n",
       "      <td>6.0</td>\n",
       "    </tr>\n",
       "    <tr>\n",
       "      <th>4</th>\n",
       "      <td>392.0</td>\n",
       "      <td>2.0</td>\n",
       "      <td>AR</td>\n",
       "      <td>url</td>\n",
       "      <td>bumeran.com.ar/empleos/analista-de-legales-pas...</td>\n",
       "      <td>6.0</td>\n",
       "    </tr>\n",
       "  </tbody>\n",
       "</table>\n",
       "</div>"
      ],
      "text/plain": [
       "   device_idx  label country feature_type  \\\n",
       "0       392.0    2.0      AR           db   \n",
       "1       392.0    2.0      AR          url   \n",
       "2       392.0    2.0      AR           bf   \n",
       "3       392.0    2.0      AR           ov   \n",
       "4       392.0    2.0      AR          url   \n",
       "\n",
       "                                      feature_detail  age  \n",
       "0                                             XiaoMi  6.0  \n",
       "1       bumeran.com.ar/empleos-busqueda-legales.html  6.0  \n",
       "2                                             Chrome  6.0  \n",
       "3                                          Android 9  6.0  \n",
       "4  bumeran.com.ar/empleos/analista-de-legales-pas...  6.0  "
      ]
     },
     "execution_count": 22,
     "metadata": {},
     "output_type": "execute_result"
    }
   ],
   "source": [
    "#Para obtener la edad, mergeo ambos tmps\n",
    "df_demo = pd.merge(tmp_gender, tmp_age, how='inner', on=['device_idx','country','feature_type','feature_detail'])\n",
    "print(df_demo.shape)\n",
    "df_demo = df_demo.rename(columns={'label_x':'label',\n",
    "                                 'label_y':'age'})\n",
    "df_demo.head()"
   ]
  },
  {
   "cell_type": "markdown",
   "id": "successful-revelation",
   "metadata": {},
   "source": [
    "### DATA CLEANSING"
   ]
  },
  {
   "cell_type": "markdown",
   "id": "palestinian-meeting",
   "metadata": {},
   "source": [
    "Label género:   \n",
    "    hombre--> 2   \n",
    "    mujer--> 3"
   ]
  },
  {
   "cell_type": "code",
   "execution_count": 23,
   "id": "pending-turner",
   "metadata": {
    "scrolled": true
   },
   "outputs": [
    {
     "data": {
      "text/plain": [
       "array([2., 3.])"
      ]
     },
     "execution_count": 23,
     "metadata": {},
     "output_type": "execute_result"
    }
   ],
   "source": [
    "df_demo['label'].unique()"
   ]
  },
  {
   "cell_type": "markdown",
   "id": "prime-acoustic",
   "metadata": {},
   "source": [
    "Me aseguro de que cada dispositivo tenga sólo un label. De no ser así, elimino al dispositivo.   "
   ]
  },
  {
   "cell_type": "code",
   "execution_count": 24,
   "id": "listed-freedom",
   "metadata": {},
   "outputs": [
    {
     "data": {
      "text/plain": [
       "array([1], dtype=int64)"
      ]
     },
     "execution_count": 24,
     "metadata": {},
     "output_type": "execute_result"
    }
   ],
   "source": [
    "df_demo.groupby(['device_idx']).nunique()['label'].unique()"
   ]
  },
  {
   "cell_type": "markdown",
   "id": "experimental-disabled",
   "metadata": {},
   "source": [
    "Descarto tipo de features que no aportan."
   ]
  },
  {
   "cell_type": "code",
   "execution_count": 25,
   "id": "matched-geometry",
   "metadata": {},
   "outputs": [
    {
     "name": "stdout",
     "output_type": "stream",
     "text": [
      "Actualmente tengo estos tipos de features: \n"
     ]
    },
    {
     "data": {
      "text/plain": [
       "array(['db', 'url', 'bf', 'ov', 'im', 'of', 'dom', 'df', 'oa', 'ip',\n",
       "       'utm', 'it'], dtype=object)"
      ]
     },
     "execution_count": 25,
     "metadata": {},
     "output_type": "execute_result"
    }
   ],
   "source": [
    "print('Actualmente tengo estos tipos de features: ')\n",
    "df_demo['feature_type'].unique()"
   ]
  },
  {
   "cell_type": "markdown",
   "id": "mathematical-status",
   "metadata": {},
   "source": [
    "Para la data que proviene de UA los tipo de features son:\n",
    "\n",
    "* of = OS (sistema operativo)\n",
    "* bf = browser (navegador)\n",
    "* df = modelo del celular \n",
    "* ov = OS version del sistema operativo\n",
    "* ip = is pc: el feature value vale siempre 1\n",
    "* db = device brand, marca del dispositivo\n",
    "* im = is mobile: el feature value vale siempre 1\n",
    "* it = is tablet: el feature value vale siempre 1 "
   ]
  },
  {
   "cell_type": "markdown",
   "id": "reasonable-diamond",
   "metadata": {},
   "source": [
    "Los tipos de features it, ip, im son indicatrices"
   ]
  },
  {
   "cell_type": "code",
   "execution_count": 26,
   "id": "reasonable-control",
   "metadata": {},
   "outputs": [
    {
     "name": "stdout",
     "output_type": "stream",
     "text": [
      "['1']\n",
      "['1']\n",
      "['1']\n"
     ]
    }
   ],
   "source": [
    "print(df_demo[df_demo['feature_type']=='it']['feature_detail'].unique())\n",
    "print(df_demo[df_demo['feature_type']=='ip']['feature_detail'].unique())\n",
    "print(df_demo[df_demo['feature_type']=='im']['feature_detail'].unique())"
   ]
  },
  {
   "cell_type": "markdown",
   "id": "acknowledged-calculation",
   "metadata": {},
   "source": [
    "El feature 'utm' no nos dice nada."
   ]
  },
  {
   "cell_type": "code",
   "execution_count": 27,
   "id": "collaborative-hygiene",
   "metadata": {},
   "outputs": [
    {
     "data": {
      "text/plain": [
       "array(['mail'], dtype=object)"
      ]
     },
     "execution_count": 27,
     "metadata": {},
     "output_type": "execute_result"
    }
   ],
   "source": [
    "df_demo[df_demo['feature_type']=='utm']['feature_detail'].unique()"
   ]
  },
  {
   "cell_type": "code",
   "execution_count": 28,
   "id": "impossible-society",
   "metadata": {},
   "outputs": [
    {
     "data": {
      "text/plain": [
       "array(['old', 'new', 'ancient'], dtype=object)"
      ]
     },
     "execution_count": 28,
     "metadata": {},
     "output_type": "execute_result"
    }
   ],
   "source": [
    "df_demo[df_demo['feature_type']=='oa']['feature_detail'].unique()"
   ]
  },
  {
   "cell_type": "code",
   "execution_count": 34,
   "id": "rising-young",
   "metadata": {},
   "outputs": [
    {
     "data": {
      "text/plain": [
       "url    1576377\n",
       "dom     381200\n",
       "of       88742\n",
       "bf       88592\n",
       "oa       85684\n",
       "ov       85306\n",
       "ip       50091\n",
       "im       38216\n",
       "db       29607\n",
       "df       21150\n",
       "utm       9756\n",
       "it         653\n",
       "Name: feature_type, dtype: int64"
      ]
     },
     "execution_count": 34,
     "metadata": {},
     "output_type": "execute_result"
    }
   ],
   "source": [
    "df_demo.feature_type.value_counts()"
   ]
  },
  {
   "cell_type": "code",
   "execution_count": 36,
   "id": "reverse-platinum",
   "metadata": {},
   "outputs": [
    {
     "name": "stdout",
     "output_type": "stream",
     "text": [
      "['db' 'url' 'bf' 'ov' 'im' 'of' 'dom' 'df' 'oa' 'ip' 'it']\n"
     ]
    }
   ],
   "source": [
    "df_demo = df_demo[(df_demo['feature_type']!='utm')]\n",
    "print(df_demo['feature_type'].unique())"
   ]
  },
  {
   "cell_type": "markdown",
   "id": "decimal-trouble",
   "metadata": {},
   "source": [
    "El feature type 'df' (modelo de dispositivo) tiene un valor que no tiene sentido--> 'wv'"
   ]
  },
  {
   "cell_type": "code",
   "execution_count": 37,
   "id": "nearby-malawi",
   "metadata": {},
   "outputs": [
    {
     "data": {
      "text/plain": [
       "array(['XiaoMi Redmi Note 8', 'moto e5 play', 'Samsung SM-J710MN',\n",
       "       'Samsung SM-G532M', 'iPhone', 'Samsung SM-A105M',\n",
       "       'Samsung SM-J701M', 'Samsung SM-A505G', 'Samsung SM-G9600',\n",
       "       'Samsung SM-A520F', 'Samsung SM-A307G', 'Samsung SM-G9650',\n",
       "       'Samsung SM-A515F', 'Samsung SM-A705MN', 'Samsung SM-G610M',\n",
       "       'Moto G (5S', 'Samsung SM-J400M', 'Samsung SM-A205G',\n",
       "       'Samsung SM-G570M', 'Samsung SM-G975F', 'LG-M250',\n",
       "       'Samsung SM-J600G', 'Samsung SM-A217M', 'Samsung SM-A715F',\n",
       "       'Samsung SM-A305G', 'Samsung SM-A015M', 'XiaoMi Redmi Note 7',\n",
       "       'Moto G (5', 'Samsung SM-A107M', 'Samsung SM-J700M',\n",
       "       'Samsung SM-J415G', 'moto e5', 'Samsung SM-J260M', 'Moto C',\n",
       "       'Samsung SM-A315G', 'Samsung SM-G955F', 'Samsung SM-J610G', 'Mac',\n",
       "       'Samsung SM-A207M', 'Samsung SM-G950F', 'Samsung SM-A115M',\n",
       "       'Moto E (4', 'Samsung SM-G935F'], dtype=object)"
      ]
     },
     "execution_count": 37,
     "metadata": {},
     "output_type": "execute_result"
    }
   ],
   "source": [
    "df_demo = df_demo[(df_demo['feature_detail']!='wv')]\n",
    "df_demo[df_demo['feature_type']=='df']['feature_detail'].unique()"
   ]
  },
  {
   "cell_type": "markdown",
   "id": "comic-bandwidth",
   "metadata": {},
   "source": [
    "Reviso valores de cada tipo de feature."
   ]
  },
  {
   "cell_type": "code",
   "execution_count": 38,
   "id": "prime-giving",
   "metadata": {},
   "outputs": [
    {
     "name": "stdout",
     "output_type": "stream",
     "text": [
      "Modelos de dispositivos: \n",
      " ['XiaoMi Redmi Note 8' 'moto e5 play' 'Samsung SM-J710MN'\n",
      " 'Samsung SM-G532M' 'iPhone' 'Samsung SM-A105M' 'Samsung SM-J701M'\n",
      " 'Samsung SM-A505G' 'Samsung SM-G9600' 'Samsung SM-A520F'\n",
      " 'Samsung SM-A307G' 'Samsung SM-G9650' 'Samsung SM-A515F'\n",
      " 'Samsung SM-A705MN' 'Samsung SM-G610M' 'Moto G (5S' 'Samsung SM-J400M'\n",
      " 'Samsung SM-A205G' 'Samsung SM-G570M' 'Samsung SM-G975F' 'LG-M250'\n",
      " 'Samsung SM-J600G' 'Samsung SM-A217M' 'Samsung SM-A715F'\n",
      " 'Samsung SM-A305G' 'Samsung SM-A015M' 'XiaoMi Redmi Note 7' 'Moto G (5'\n",
      " 'Samsung SM-A107M' 'Samsung SM-J700M' 'Samsung SM-J415G' 'moto e5'\n",
      " 'Samsung SM-J260M' 'Moto C' 'Samsung SM-A315G' 'Samsung SM-G955F'\n",
      " 'Samsung SM-J610G' 'Mac' 'Samsung SM-A207M' 'Samsung SM-G950F'\n",
      " 'Samsung SM-A115M' 'Moto E (4' 'Samsung SM-G935F']\n",
      "Marcas de dispositivos: \n",
      " ['XiaoMi' 'Huawei' 'Samsung' 'Apple' 'LG' 'Motorola']\n",
      "Navegadores de dispositivos: \n",
      " ['Chrome' 'Edge' 'SocialApp' 'Google' 'Safari' 'Brand_browser' 'Firefox'\n",
      " 'IE']\n",
      "Sistemas Operativos de dispositivos: \n",
      " ['Android' 'Windows' 'iOS' 'Mac OS X' 'Linux']\n",
      "Versiones de Sistema Operativo de dispositivos: \n",
      " ['Android 9' 'Windows 10' 'Windows 7' 'Android 6' 'Android 8' 'Android 10'\n",
      " 'Android 7' 'iOS 14' 'Windows XP' 'Android 4' 'iOS 13' 'Android 5'\n",
      " 'Windows 8']\n",
      "Antiguedad de dispositivo: \n",
      " ['old' 'new' 'ancient']\n",
      "Dominios por los que navegan dispositivos: \n",
      " ['bumeran.com.ar/empleos-busqueda-legales.html'\n",
      " 'bumeran.com.ar/empleos/analista-de-legales-pasante-fyo-1114192249.html'\n",
      " 'bumeran.com.ar/empleos-area-legales-busqueda-legales.html' ...\n",
      " 'zonaprop.com.ar/propiedades/alquiler-departamento-2-amb.-2-patios-villa-santa-47158952.html'\n",
      " 'inmobiliariaparadela.com/alquiler'\n",
      " 'zonaprop.com.ar/propiedades/casa-en-oportunidad-en-villa-giardino-47043532.html']\n",
      "Urls por los que navegan dispositivos: \n",
      " ['bumeran.com.ar' 'zonajobs.com.ar' 'veadigital.com.ar' ...\n",
      " 'getcomics.info' 'muypymes.com' 'rebelion.org']\n"
     ]
    }
   ],
   "source": [
    "print('Modelos de dispositivos: \\n',df_demo[df_demo['feature_type']=='df']['feature_detail'].unique())\n",
    "print('Marcas de dispositivos: \\n',df_demo[df_demo['feature_type']=='db']['feature_detail'].unique())\n",
    "print('Navegadores de dispositivos: \\n',df_demo[df_demo['feature_type']=='bf']['feature_detail'].unique())\n",
    "print('Sistemas Operativos de dispositivos: \\n',df_demo[df_demo['feature_type']=='of']['feature_detail'].unique())\n",
    "print('Versiones de Sistema Operativo de dispositivos: \\n',df_demo[df_demo['feature_type']=='ov']['feature_detail'].unique())\n",
    "print('Antiguedad de dispositivo: \\n',df_demo[df_demo['feature_type']=='oa']['feature_detail'].unique())\n",
    "print('Dominios por los que navegan dispositivos: \\n',df_demo[df_demo['feature_type']=='url']['feature_detail'].unique())\n",
    "print('Urls por los que navegan dispositivos: \\n',df_demo[df_demo['feature_type']=='dom']['feature_detail'].unique())"
   ]
  },
  {
   "cell_type": "markdown",
   "id": "sufficient-student",
   "metadata": {},
   "source": [
    "Características del dataset."
   ]
  },
  {
   "cell_type": "code",
   "execution_count": 43,
   "id": "protective-spread",
   "metadata": {},
   "outputs": [
    {
     "name": "stdout",
     "output_type": "stream",
     "text": [
      "2445214 filas para Argentina\n",
      "Shape: \n",
      " (2445214, 6)\n",
      "Cantidad de dispositivos únicos: \n",
      " 99693\n",
      "Cantidad de tipo de features únicos: \n",
      " 11 Siendo: ['db' 'url' 'bf' 'ov' 'im' 'of' 'dom' 'df' 'oa' 'ip' 'it']\n",
      "Cantidad de features únicos: \n",
      " 31976\n"
     ]
    },
    {
     "data": {
      "text/html": [
       "<div>\n",
       "<style scoped>\n",
       "    .dataframe tbody tr th:only-of-type {\n",
       "        vertical-align: middle;\n",
       "    }\n",
       "\n",
       "    .dataframe tbody tr th {\n",
       "        vertical-align: top;\n",
       "    }\n",
       "\n",
       "    .dataframe thead th {\n",
       "        text-align: right;\n",
       "    }\n",
       "</style>\n",
       "<table border=\"1\" class=\"dataframe\">\n",
       "  <thead>\n",
       "    <tr style=\"text-align: right;\">\n",
       "      <th></th>\n",
       "      <th>device_idx</th>\n",
       "      <th>label</th>\n",
       "      <th>country</th>\n",
       "      <th>feature_type</th>\n",
       "      <th>feature_detail</th>\n",
       "      <th>age</th>\n",
       "    </tr>\n",
       "  </thead>\n",
       "  <tbody>\n",
       "    <tr>\n",
       "      <th>0</th>\n",
       "      <td>392.0</td>\n",
       "      <td>2.0</td>\n",
       "      <td>AR</td>\n",
       "      <td>db</td>\n",
       "      <td>XiaoMi</td>\n",
       "      <td>6.0</td>\n",
       "    </tr>\n",
       "    <tr>\n",
       "      <th>1</th>\n",
       "      <td>392.0</td>\n",
       "      <td>2.0</td>\n",
       "      <td>AR</td>\n",
       "      <td>url</td>\n",
       "      <td>bumeran.com.ar/empleos-busqueda-legales.html</td>\n",
       "      <td>6.0</td>\n",
       "    </tr>\n",
       "    <tr>\n",
       "      <th>2</th>\n",
       "      <td>392.0</td>\n",
       "      <td>2.0</td>\n",
       "      <td>AR</td>\n",
       "      <td>bf</td>\n",
       "      <td>Chrome</td>\n",
       "      <td>6.0</td>\n",
       "    </tr>\n",
       "  </tbody>\n",
       "</table>\n",
       "</div>"
      ],
      "text/plain": [
       "   device_idx  label country feature_type  \\\n",
       "0       392.0    2.0      AR           db   \n",
       "1       392.0    2.0      AR          url   \n",
       "2       392.0    2.0      AR           bf   \n",
       "\n",
       "                                 feature_detail  age  \n",
       "0                                        XiaoMi  6.0  \n",
       "1  bumeran.com.ar/empleos-busqueda-legales.html  6.0  \n",
       "2                                        Chrome  6.0  "
      ]
     },
     "execution_count": 43,
     "metadata": {},
     "output_type": "execute_result"
    }
   ],
   "source": [
    "print(df_demo.shape[0], 'filas para Argentina')\n",
    "print('Shape: \\n',df_demo.shape)\n",
    "print('Cantidad de dispositivos únicos: \\n',len(df_demo['device_idx'].unique()))\n",
    "print('Cantidad de tipo de features únicos: \\n',len(df_demo['feature_type'].unique()),'Siendo:',df_demo['feature_type'].unique())\n",
    "print('Cantidad de features únicos: \\n',len(df_demo['feature_detail'].unique()))\n",
    "df_demo.head(3)"
   ]
  },
  {
   "cell_type": "markdown",
   "id": "organized-variety",
   "metadata": {},
   "source": [
    "Guardo Dataset Género."
   ]
  },
  {
   "cell_type": "code",
   "execution_count": 40,
   "id": "parliamentary-petersburg",
   "metadata": {},
   "outputs": [],
   "source": [
    "df_demo.to_csv('df_demografico_ar.csv')"
   ]
  }
 ],
 "metadata": {
  "kernelspec": {
   "display_name": "Python 3",
   "language": "python",
   "name": "python3"
  },
  "language_info": {
   "codemirror_mode": {
    "name": "ipython",
    "version": 3
   },
   "file_extension": ".py",
   "mimetype": "text/x-python",
   "name": "python",
   "nbconvert_exporter": "python",
   "pygments_lexer": "ipython3",
   "version": "3.7.9"
  }
 },
 "nbformat": 4,
 "nbformat_minor": 5
}
